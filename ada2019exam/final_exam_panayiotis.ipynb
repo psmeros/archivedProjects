{
 "cells": [
  {
   "cell_type": "code",
   "execution_count": 1,
   "metadata": {},
   "outputs": [],
   "source": [
    "import numpy as np\n",
    "import os\n",
    "import pandas as pd\n",
    "import matplotlib.pyplot as plt\n",
    "from helpers.helper_functions import *\n",
    "import re\n",
    "import warnings\n",
    "warnings.filterwarnings('ignore')"
   ]
  },
  {
   "cell_type": "markdown",
   "metadata": {},
   "source": [
    "# The Significant Bang Theory\n",
    "\n",
    "Attention, ADA students!\n",
    "\n",
    "The Sheldon Cooper we all know and love (OK, some of us don't know him, and some don't love him) from the TV series \"The Big Bang Theory\" has gotten into an argument with Leonard from the same TV show. Sheldon insists that he knows the show better than anyone, and keeps making various claims about the show, which neither of them know how to prove or disprove.The two of them have reached out to you ladies and gentlemen, as data scientists, to help them. You will be given the full script of the series, with information on the episode, the scene, the person saying each dialogue line, and the dialogue lines themselves.\n",
    "\n",
    "Leonard has challenged several of Sheldon's claims about the show, and throughout this exam you will see some of those and you will get to prove or disprove them, but remember: sometimes, we can neither prove a claim, nor disprove it!\n",
    "\n",
    "## Deadline\n",
    "Thursday, January 17th, 2018; 12:35 P.M. CEST\n",
    "\n",
    "## Important notes\n",
    "* Don't forget to add a textual description of your thought process, the assumptions you made, and your results!\n",
    "* Please write all your comments in English, and use meaningful variable names in your code.\n",
    "* As we have seen during the semester, data science is all about multiple iterations on the same dataset. Do not obsess over small details in the beginning, and try to complete as many tasks as possible during the first 2 hours. Then, go back to the obtained results, write meaningful comments, and debug your code if you have found any glaring mistake.\n",
    "* Try to write modular code since you may have to reuse your code written in previous sections in sections that come afterwards. \n",
    "* The exam is designed for more than 3 hours and you do not need to solve everything in order to get a 6: only task 1, and the text preprocessing at the beginning of task 2 are absolutely necessary. Other than that, you have freedom in choosing the tasks you want to solve.\n",
    "* You cannot leave the room in the first and last 15 minutes.\n",
    "* You can use all the online resources you want except for communication tools (emails, web chats, forums, phone, etc.). We will monitor the network for unusual activities.\n",
    "* Remember, this is not a homework assignment -- no teamwork allowed!\n",
    "\n",
    "## Submission\n",
    "* Make sure you upload your Jupyter Notebook (1 file) with [this](https://goo.gl/forms/CEZoS4ommiMNg7o32) form at the end of the exam, with all the cells already evaluated (except for the Spark-related question, Task 3 Part 3).\n",
    "* Complete all the fields in the form, and name your file following the format \"NameSurname_SCIPER.ipynb\". The form will be open to submissions until 12:35 (strict deadline). Late submissions will not be accepted."
   ]
  },
  {
   "cell_type": "markdown",
   "metadata": {
    "collapsed": true
   },
   "source": [
    "## Task 1: Picking up the shovel\n",
    "\n",
    "Our friends' argument concerns the entire show. We have given you a file in the `data/` folder that contains the script of every single episode. New episodes are indicated by '>>', new scenes by '>', and the rest of the lines are dialogue lines. Some lines are said by multiple people (for example, lines indicated by 'All' or 'Together'); you can discard these lines or otherwise ignore their existence, for the sake of simplicity.\n",
    "\n",
    "1. Your first task is to extract all lines of dialogue in each scene. Remember that for the later tasks, you need to know both the episode and the scene the line of dialogue appeared in. Then, answer the following questions:\n",
    "\n",
    "    1.1. In total, how many scenes are there in each season? We're not asking about unique scenes; the same location appearing in two episodes counts as two scenes. You can use a Pandas dataframe with a season column and a scene count column as the response.\n",
    "    \n",
    "    1.2. How many lines of dialogue exist in the first season?\n",
    "    \n",
    "2. Now, let's define two sets of characters: all the characters, and recurrent characters. Recurrent characters are those who appear in more than one episode. For the subsequent sections, you will need to have a list of recurrent characters. Assume that there are no two _named characters_ (i.e. characters who have actual names and aren't referred to generically as \"little girl\", \"grumpy grandpa\", etc.) with the same name, i.e. there are no two Sheldons, etc. Generate a list of recurrent characters who have more than 90 dialogue lines in total, and then take a look at the list you have. If you've done this correctly, you should have a list of 20 names. However, one of these is clearly not a recurrent character. Manually remove that one, and print out your list of recurrent characters. **For the next sections, you must only keep the dialogue lines said by the recurrent characters in your list.**\n",
    "\n",
    "_Hint: \"I know all the recurrent characters because I've watched the entire series five times\" is not an acceptable argument, so you need to actually generate the list._"
   ]
  },
  {
   "cell_type": "code",
   "execution_count": 2,
   "metadata": {},
   "outputs": [],
   "source": [
    "script = pd.read_csv('data/all_scripts.txt', sep='\\t', header=None).rename(columns={0:'line'})"
   ]
  },
  {
   "cell_type": "code",
   "execution_count": 3,
   "metadata": {},
   "outputs": [],
   "source": [
    "script['season'] = script['line'].apply(lambda x: re.search('Series (.+?) ', x).group(1) if x.startswith('>>') else np.NaN)\n",
    "script['episode'] = script['line'].apply(lambda x: re.search('Episode (.+?) ', x).group(1) if x.startswith('>>') else np.NaN)\n",
    "script['episode name'] = script['line'].apply(lambda x: re.search('– (.*)', x).group(1) if x.startswith('>>') else np.NaN)"
   ]
  },
  {
   "cell_type": "code",
   "execution_count": 4,
   "metadata": {},
   "outputs": [],
   "source": [
    "script = script.fillna(method='ffill')\n",
    "script = script[~script['line'].apply(lambda x: x.startswith('>>'))]"
   ]
  },
  {
   "cell_type": "code",
   "execution_count": 5,
   "metadata": {},
   "outputs": [],
   "source": [
    "script = script.reset_index()\n",
    "script['scene id'] = script.apply(lambda x: x['index'] if x['line'].startswith('>') else np.NaN, axis=1)\n",
    "script['scene desc'] = script['line'].apply(lambda x: re.search('^> (.*)', x).group(1) if x.startswith('>') else np.NaN)"
   ]
  },
  {
   "cell_type": "code",
   "execution_count": 6,
   "metadata": {},
   "outputs": [],
   "source": [
    "script = script.fillna(method='ffill')\n",
    "script = script[~script['line'].apply(lambda x: x.startswith('>'))]\n",
    "script = script.drop('index', axis=1)"
   ]
  },
  {
   "cell_type": "code",
   "execution_count": 7,
   "metadata": {},
   "outputs": [],
   "source": [
    "script['character'] = script['line'].apply(lambda x: re.search('^(.+?):', x).group(1))\n",
    "script['line'] = script['line'].apply(lambda x: re.search('^(.+?): (.*)$', x).group(2))"
   ]
  },
  {
   "cell_type": "code",
   "execution_count": 8,
   "metadata": {},
   "outputs": [
    {
     "data": {
      "text/html": [
       "<div>\n",
       "<style scoped>\n",
       "    .dataframe tbody tr th:only-of-type {\n",
       "        vertical-align: middle;\n",
       "    }\n",
       "\n",
       "    .dataframe tbody tr th {\n",
       "        vertical-align: top;\n",
       "    }\n",
       "\n",
       "    .dataframe thead th {\n",
       "        text-align: right;\n",
       "    }\n",
       "</style>\n",
       "<table border=\"1\" class=\"dataframe\">\n",
       "  <thead>\n",
       "    <tr style=\"text-align: right;\">\n",
       "      <th></th>\n",
       "      <th>line</th>\n",
       "      <th>season</th>\n",
       "      <th>episode</th>\n",
       "      <th>episode name</th>\n",
       "      <th>scene id</th>\n",
       "      <th>scene desc</th>\n",
       "      <th>character</th>\n",
       "    </tr>\n",
       "  </thead>\n",
       "  <tbody>\n",
       "    <tr>\n",
       "      <th>1</th>\n",
       "      <td>So if a photon is directed through a plane wit...</td>\n",
       "      <td>01</td>\n",
       "      <td>01</td>\n",
       "      <td>Pilot Episode</td>\n",
       "      <td>1.0</td>\n",
       "      <td>A corridor at a sperm bank.</td>\n",
       "      <td>Sheldon</td>\n",
       "    </tr>\n",
       "    <tr>\n",
       "      <th>2</th>\n",
       "      <td>Agreed, what’s your point?</td>\n",
       "      <td>01</td>\n",
       "      <td>01</td>\n",
       "      <td>Pilot Episode</td>\n",
       "      <td>1.0</td>\n",
       "      <td>A corridor at a sperm bank.</td>\n",
       "      <td>Leonard</td>\n",
       "    </tr>\n",
       "    <tr>\n",
       "      <th>3</th>\n",
       "      <td>There’s no point, I just think it’s a good ide...</td>\n",
       "      <td>01</td>\n",
       "      <td>01</td>\n",
       "      <td>Pilot Episode</td>\n",
       "      <td>1.0</td>\n",
       "      <td>A corridor at a sperm bank.</td>\n",
       "      <td>Sheldon</td>\n",
       "    </tr>\n",
       "    <tr>\n",
       "      <th>4</th>\n",
       "      <td>Excuse me?</td>\n",
       "      <td>01</td>\n",
       "      <td>01</td>\n",
       "      <td>Pilot Episode</td>\n",
       "      <td>1.0</td>\n",
       "      <td>A corridor at a sperm bank.</td>\n",
       "      <td>Leonard</td>\n",
       "    </tr>\n",
       "    <tr>\n",
       "      <th>5</th>\n",
       "      <td>Hang on.</td>\n",
       "      <td>01</td>\n",
       "      <td>01</td>\n",
       "      <td>Pilot Episode</td>\n",
       "      <td>1.0</td>\n",
       "      <td>A corridor at a sperm bank.</td>\n",
       "      <td>Receptionist</td>\n",
       "    </tr>\n",
       "  </tbody>\n",
       "</table>\n",
       "</div>"
      ],
      "text/plain": [
       "                                                line season episode  \\\n",
       "1  So if a photon is directed through a plane wit...     01      01   \n",
       "2                         Agreed, what’s your point?     01      01   \n",
       "3  There’s no point, I just think it’s a good ide...     01      01   \n",
       "4                                         Excuse me?     01      01   \n",
       "5                                           Hang on.     01      01   \n",
       "\n",
       "    episode name  scene id                   scene desc     character  \n",
       "1  Pilot Episode       1.0  A corridor at a sperm bank.       Sheldon  \n",
       "2  Pilot Episode       1.0  A corridor at a sperm bank.       Leonard  \n",
       "3  Pilot Episode       1.0  A corridor at a sperm bank.       Sheldon  \n",
       "4  Pilot Episode       1.0  A corridor at a sperm bank.       Leonard  \n",
       "5  Pilot Episode       1.0  A corridor at a sperm bank.  Receptionist  "
      ]
     },
     "execution_count": 8,
     "metadata": {},
     "output_type": "execute_result"
    }
   ],
   "source": [
    "script = script[~script['character'].isin(['All', 'Together'])]\n",
    "script.head()"
   ]
  },
  {
   "cell_type": "code",
   "execution_count": 9,
   "metadata": {},
   "outputs": [
    {
     "data": {
      "text/plain": [
       "season\n",
       "01    159\n",
       "02    231\n",
       "03    236\n",
       "04    279\n",
       "05    254\n",
       "06    304\n",
       "07    332\n",
       "08    327\n",
       "09    337\n",
       "10    346\n",
       "Name: scene id, dtype: int64"
      ]
     },
     "execution_count": 9,
     "metadata": {},
     "output_type": "execute_result"
    }
   ],
   "source": [
    "#how many scenes are there in each season\n",
    "script.groupby('season')['scene id'].nunique()"
   ]
  },
  {
   "cell_type": "code",
   "execution_count": 10,
   "metadata": {},
   "outputs": [
    {
     "data": {
      "text/plain": [
       "4126"
      ]
     },
     "execution_count": 10,
     "metadata": {},
     "output_type": "execute_result"
    }
   ],
   "source": [
    "#How many lines of dialogue exist in the first season?\n",
    "script[script['season']=='01'].shape[0]"
   ]
  },
  {
   "cell_type": "code",
   "execution_count": 11,
   "metadata": {},
   "outputs": [
    {
     "data": {
      "text/plain": [
       "['Amy',\n",
       " 'Arthur',\n",
       " 'Bernadette',\n",
       " 'Bert',\n",
       " 'Beverley',\n",
       " 'Emily',\n",
       " 'Howard',\n",
       " 'Kripke',\n",
       " 'Leonard',\n",
       " 'Leslie',\n",
       " 'Mrs Cooper',\n",
       " 'Mrs Wolowitz',\n",
       " 'Penny',\n",
       " 'Priya',\n",
       " 'Raj',\n",
       " 'Sheldon',\n",
       " 'Stuart',\n",
       " 'Wil',\n",
       " 'Zack']"
      ]
     },
     "execution_count": 11,
     "metadata": {},
     "output_type": "execute_result"
    }
   ],
   "source": [
    "rec_characters = pd.DataFrame(script.groupby('character')['episode', 'line'].nunique())\n",
    "rec_characters = rec_characters[(rec_characters['episode'] > 1) & (rec_characters['line'] > 90) ]\n",
    "rec_characters = rec_characters.drop('Man')\n",
    "rec_characters = rec_characters.index.values.tolist()\n",
    "rec_characters"
   ]
  },
  {
   "cell_type": "code",
   "execution_count": 12,
   "metadata": {},
   "outputs": [],
   "source": [
    "script = script[script['character'].isin(rec_characters)]\n",
    "script = script.reset_index(drop=True)"
   ]
  },
  {
   "cell_type": "markdown",
   "metadata": {},
   "source": [
    "## Task 2: Read the ~~stats~~ scripts carefully\n",
    "\n",
    "### Part 1: Don't put the shovel down just yet\n",
    "\n",
    "1. From each dialogue line, replace punctuation marks (listed in the EXCLUDE_CHARS variable provided in `helpers/helper_functions.py`) with whitespaces, and lowercase all the text. **Do not remove any stopwords, leave them be for now.**\n",
    "2. For each term, calculate its \"corpus frequency\", i.e. its number of occurrences in the entire series. Visualize the distribution of corpus frequency using a histogram. Explain your observations. What are the appropriate x and y scales for this plot?"
   ]
  },
  {
   "cell_type": "code",
   "execution_count": 13,
   "metadata": {},
   "outputs": [],
   "source": [
    "script['line'] = script['line'].apply(lambda x: re.sub('['+'\\\\'.join(EXCLUDE_CHARS)+']', ' ', x).lower())"
   ]
  },
  {
   "cell_type": "code",
   "execution_count": 14,
   "metadata": {},
   "outputs": [
    {
     "data": {
      "text/plain": [
       "<matplotlib.axes._subplots.AxesSubplot at 0x7f9331cf59b0>"
      ]
     },
     "execution_count": 14,
     "metadata": {},
     "output_type": "execute_result"
    },
    {
     "data": {
      "image/png": "[encoded data removed]",
      "text/plain": [
       "<Figure size 432x288 with 1 Axes>"
      ]
     },
     "metadata": {
      "needs_background": "light"
     },
     "output_type": "display_data"
    }
   ],
   "source": [
    "pd.Series(''.join(script['line'].tolist()).split()).value_counts().plot()"
   ]
  },
  {
   "cell_type": "code",
   "execution_count": 15,
   "metadata": {},
   "outputs": [
    {
     "data": {
      "text/plain": [
       "<matplotlib.axes._subplots.AxesSubplot at 0x7f9332582978>"
      ]
     },
     "execution_count": 15,
     "metadata": {},
     "output_type": "execute_result"
    },
    {
     "data": {
      "image/png": "[encoded data removed]",
      "text/plain": [
       "<Figure size 432x288 with 1 Axes>"
      ]
     },
     "metadata": {
      "needs_background": "light"
     },
     "output_type": "display_data"
    }
   ],
   "source": [
    "pd.Series(''.join(script['line'].tolist()).split()).value_counts().plot(logy=True)"
   ]
  },
  {
   "cell_type": "markdown",
   "metadata": {},
   "source": [
    "### Part 2: Talkativity\n",
    "1. For each of the recurrent characters, calculate their total number of words uttered for all episodes. Based on this, who seems to be the most talkative character?\n",
    "2. For each of the recurrent characters, calculate their total number of words uttered per episode (ignoring episodes that the character does not appear in), and calculate a robust summary statistic for the word count distribution of each person.\n",
    "\n",
    "    2.1. What changes do you observe, compared with the previous section?\n",
    "    \n",
    "    2.2. Why is this analysis an improvement over the previous one, and how could you improve it even further? _Hint: The improvement involves making your unit for word counts even more granular - you can go further down than episodes._\n",
    "    \n",
    "    2.3. Incorporate that improvement. Do you still see the same results? How **confident** can you be that the \"most talkative\" person given by this twice improved method is really more talkative than the second most talkative one? _Hint: Read the sentence again._"
   ]
  },
  {
   "cell_type": "code",
   "execution_count": 16,
   "metadata": {},
   "outputs": [
    {
     "data": {
      "text/html": [
       "<div>\n",
       "<style scoped>\n",
       "    .dataframe tbody tr th:only-of-type {\n",
       "        vertical-align: middle;\n",
       "    }\n",
       "\n",
       "    .dataframe tbody tr th {\n",
       "        vertical-align: top;\n",
       "    }\n",
       "\n",
       "    .dataframe thead th {\n",
       "        text-align: right;\n",
       "    }\n",
       "</style>\n",
       "<table border=\"1\" class=\"dataframe\">\n",
       "  <thead>\n",
       "    <tr style=\"text-align: right;\">\n",
       "      <th></th>\n",
       "      <th>line</th>\n",
       "    </tr>\n",
       "    <tr>\n",
       "      <th>character</th>\n",
       "      <th></th>\n",
       "    </tr>\n",
       "  </thead>\n",
       "  <tbody>\n",
       "    <tr>\n",
       "      <th>Sheldon</th>\n",
       "      <td>185197</td>\n",
       "    </tr>\n",
       "    <tr>\n",
       "      <th>Leonard</th>\n",
       "      <td>102323</td>\n",
       "    </tr>\n",
       "    <tr>\n",
       "      <th>Penny</th>\n",
       "      <td>79165</td>\n",
       "    </tr>\n",
       "    <tr>\n",
       "      <th>Howard</th>\n",
       "      <td>69410</td>\n",
       "    </tr>\n",
       "    <tr>\n",
       "      <th>Raj</th>\n",
       "      <td>60044</td>\n",
       "    </tr>\n",
       "    <tr>\n",
       "      <th>Amy</th>\n",
       "      <td>39894</td>\n",
       "    </tr>\n",
       "    <tr>\n",
       "      <th>Bernadette</th>\n",
       "      <td>27708</td>\n",
       "    </tr>\n",
       "    <tr>\n",
       "      <th>Stuart</th>\n",
       "      <td>7946</td>\n",
       "    </tr>\n",
       "    <tr>\n",
       "      <th>Mrs Cooper</th>\n",
       "      <td>3381</td>\n",
       "    </tr>\n",
       "    <tr>\n",
       "      <th>Beverley</th>\n",
       "      <td>2029</td>\n",
       "    </tr>\n",
       "    <tr>\n",
       "      <th>Priya</th>\n",
       "      <td>1938</td>\n",
       "    </tr>\n",
       "    <tr>\n",
       "      <th>Wil</th>\n",
       "      <td>1675</td>\n",
       "    </tr>\n",
       "    <tr>\n",
       "      <th>Emily</th>\n",
       "      <td>1569</td>\n",
       "    </tr>\n",
       "    <tr>\n",
       "      <th>Mrs Wolowitz</th>\n",
       "      <td>1458</td>\n",
       "    </tr>\n",
       "    <tr>\n",
       "      <th>Arthur</th>\n",
       "      <td>1450</td>\n",
       "    </tr>\n",
       "    <tr>\n",
       "      <th>Zack</th>\n",
       "      <td>1426</td>\n",
       "    </tr>\n",
       "    <tr>\n",
       "      <th>Leslie</th>\n",
       "      <td>1248</td>\n",
       "    </tr>\n",
       "    <tr>\n",
       "      <th>Kripke</th>\n",
       "      <td>1246</td>\n",
       "    </tr>\n",
       "    <tr>\n",
       "      <th>Bert</th>\n",
       "      <td>1146</td>\n",
       "    </tr>\n",
       "  </tbody>\n",
       "</table>\n",
       "</div>"
      ],
      "text/plain": [
       "                line\n",
       "character           \n",
       "Sheldon       185197\n",
       "Leonard       102323\n",
       "Penny          79165\n",
       "Howard         69410\n",
       "Raj            60044\n",
       "Amy            39894\n",
       "Bernadette     27708\n",
       "Stuart          7946\n",
       "Mrs Cooper      3381\n",
       "Beverley        2029\n",
       "Priya           1938\n",
       "Wil             1675\n",
       "Emily           1569\n",
       "Mrs Wolowitz    1458\n",
       "Arthur          1450\n",
       "Zack            1426\n",
       "Leslie          1248\n",
       "Kripke          1246\n",
       "Bert            1146"
      ]
     },
     "execution_count": 16,
     "metadata": {},
     "output_type": "execute_result"
    }
   ],
   "source": [
    "script.groupby('character')['line'].apply(lambda x: len(''.join(x.tolist()).split())).sort_values(ascending=False).to_frame()"
   ]
  },
  {
   "cell_type": "code",
   "execution_count": 17,
   "metadata": {},
   "outputs": [
    {
     "data": {
      "text/html": [
       "<div>\n",
       "<style scoped>\n",
       "    .dataframe tbody tr th:only-of-type {\n",
       "        vertical-align: middle;\n",
       "    }\n",
       "\n",
       "    .dataframe tbody tr th {\n",
       "        vertical-align: top;\n",
       "    }\n",
       "\n",
       "    .dataframe thead th {\n",
       "        text-align: right;\n",
       "    }\n",
       "</style>\n",
       "<table border=\"1\" class=\"dataframe\">\n",
       "  <thead>\n",
       "    <tr style=\"text-align: right;\">\n",
       "      <th></th>\n",
       "      <th>line</th>\n",
       "    </tr>\n",
       "    <tr>\n",
       "      <th>character</th>\n",
       "      <th></th>\n",
       "    </tr>\n",
       "  </thead>\n",
       "  <tbody>\n",
       "    <tr>\n",
       "      <th>Sheldon</th>\n",
       "      <td>7762.5</td>\n",
       "    </tr>\n",
       "    <tr>\n",
       "      <th>Leonard</th>\n",
       "      <td>4507.5</td>\n",
       "    </tr>\n",
       "    <tr>\n",
       "      <th>Penny</th>\n",
       "      <td>3354.5</td>\n",
       "    </tr>\n",
       "    <tr>\n",
       "      <th>Howard</th>\n",
       "      <td>2861.5</td>\n",
       "    </tr>\n",
       "    <tr>\n",
       "      <th>Raj</th>\n",
       "      <td>2513.0</td>\n",
       "    </tr>\n",
       "    <tr>\n",
       "      <th>Amy</th>\n",
       "      <td>1553.5</td>\n",
       "    </tr>\n",
       "    <tr>\n",
       "      <th>Bernadette</th>\n",
       "      <td>1125.5</td>\n",
       "    </tr>\n",
       "    <tr>\n",
       "      <th>Mrs Cooper</th>\n",
       "      <td>359.0</td>\n",
       "    </tr>\n",
       "    <tr>\n",
       "      <th>Arthur</th>\n",
       "      <td>345.0</td>\n",
       "    </tr>\n",
       "    <tr>\n",
       "      <th>Stuart</th>\n",
       "      <td>327.0</td>\n",
       "    </tr>\n",
       "    <tr>\n",
       "      <th>Bert</th>\n",
       "      <td>199.0</td>\n",
       "    </tr>\n",
       "    <tr>\n",
       "      <th>Beverley</th>\n",
       "      <td>184.0</td>\n",
       "    </tr>\n",
       "    <tr>\n",
       "      <th>Kripke</th>\n",
       "      <td>162.0</td>\n",
       "    </tr>\n",
       "    <tr>\n",
       "      <th>Priya</th>\n",
       "      <td>145.0</td>\n",
       "    </tr>\n",
       "    <tr>\n",
       "      <th>Zack</th>\n",
       "      <td>139.0</td>\n",
       "    </tr>\n",
       "    <tr>\n",
       "      <th>Wil</th>\n",
       "      <td>122.5</td>\n",
       "    </tr>\n",
       "    <tr>\n",
       "      <th>Leslie</th>\n",
       "      <td>121.0</td>\n",
       "    </tr>\n",
       "    <tr>\n",
       "      <th>Emily</th>\n",
       "      <td>111.0</td>\n",
       "    </tr>\n",
       "    <tr>\n",
       "      <th>Mrs Wolowitz</th>\n",
       "      <td>72.0</td>\n",
       "    </tr>\n",
       "  </tbody>\n",
       "</table>\n",
       "</div>"
      ],
      "text/plain": [
       "                line\n",
       "character           \n",
       "Sheldon       7762.5\n",
       "Leonard       4507.5\n",
       "Penny         3354.5\n",
       "Howard        2861.5\n",
       "Raj           2513.0\n",
       "Amy           1553.5\n",
       "Bernadette    1125.5\n",
       "Mrs Cooper     359.0\n",
       "Arthur         345.0\n",
       "Stuart         327.0\n",
       "Bert           199.0\n",
       "Beverley       184.0\n",
       "Kripke         162.0\n",
       "Priya          145.0\n",
       "Zack           139.0\n",
       "Wil            122.5\n",
       "Leslie         121.0\n",
       "Emily          111.0\n",
       "Mrs Wolowitz    72.0"
      ]
     },
     "execution_count": 17,
     "metadata": {},
     "output_type": "execute_result"
    }
   ],
   "source": [
    "#median words per episode appeared\n",
    "script.groupby(['character', 'episode'])['line'].apply(lambda x: len(''.join(x.tolist()).split())).reset_index().groupby('character').median().sort_values(by='line', ascending=False)"
   ]
  },
  {
   "cell_type": "code",
   "execution_count": 18,
   "metadata": {},
   "outputs": [
    {
     "data": {
      "text/html": [
       "<div>\n",
       "<style scoped>\n",
       "    .dataframe tbody tr th:only-of-type {\n",
       "        vertical-align: middle;\n",
       "    }\n",
       "\n",
       "    .dataframe tbody tr th {\n",
       "        vertical-align: top;\n",
       "    }\n",
       "\n",
       "    .dataframe thead th {\n",
       "        text-align: right;\n",
       "    }\n",
       "</style>\n",
       "<table border=\"1\" class=\"dataframe\">\n",
       "  <thead>\n",
       "    <tr style=\"text-align: right;\">\n",
       "      <th></th>\n",
       "      <th>line</th>\n",
       "    </tr>\n",
       "    <tr>\n",
       "      <th>character</th>\n",
       "      <th></th>\n",
       "    </tr>\n",
       "  </thead>\n",
       "  <tbody>\n",
       "    <tr>\n",
       "      <th>Mrs Cooper</th>\n",
       "      <td>103.0</td>\n",
       "    </tr>\n",
       "    <tr>\n",
       "      <th>Sheldon</th>\n",
       "      <td>96.0</td>\n",
       "    </tr>\n",
       "    <tr>\n",
       "      <th>Arthur</th>\n",
       "      <td>88.0</td>\n",
       "    </tr>\n",
       "    <tr>\n",
       "      <th>Beverley</th>\n",
       "      <td>70.0</td>\n",
       "    </tr>\n",
       "    <tr>\n",
       "      <th>Leslie</th>\n",
       "      <td>60.0</td>\n",
       "    </tr>\n",
       "    <tr>\n",
       "      <th>Kripke</th>\n",
       "      <td>57.0</td>\n",
       "    </tr>\n",
       "    <tr>\n",
       "      <th>Penny</th>\n",
       "      <td>55.0</td>\n",
       "    </tr>\n",
       "    <tr>\n",
       "      <th>Leonard</th>\n",
       "      <td>52.0</td>\n",
       "    </tr>\n",
       "    <tr>\n",
       "      <th>Zack</th>\n",
       "      <td>51.0</td>\n",
       "    </tr>\n",
       "    <tr>\n",
       "      <th>Howard</th>\n",
       "      <td>50.0</td>\n",
       "    </tr>\n",
       "    <tr>\n",
       "      <th>Raj</th>\n",
       "      <td>48.0</td>\n",
       "    </tr>\n",
       "    <tr>\n",
       "      <th>Amy</th>\n",
       "      <td>46.0</td>\n",
       "    </tr>\n",
       "    <tr>\n",
       "      <th>Wil</th>\n",
       "      <td>45.5</td>\n",
       "    </tr>\n",
       "    <tr>\n",
       "      <th>Bert</th>\n",
       "      <td>42.0</td>\n",
       "    </tr>\n",
       "    <tr>\n",
       "      <th>Bernadette</th>\n",
       "      <td>37.0</td>\n",
       "    </tr>\n",
       "    <tr>\n",
       "      <th>Stuart</th>\n",
       "      <td>37.0</td>\n",
       "    </tr>\n",
       "    <tr>\n",
       "      <th>Emily</th>\n",
       "      <td>31.0</td>\n",
       "    </tr>\n",
       "    <tr>\n",
       "      <th>Priya</th>\n",
       "      <td>30.0</td>\n",
       "    </tr>\n",
       "    <tr>\n",
       "      <th>Mrs Wolowitz</th>\n",
       "      <td>20.5</td>\n",
       "    </tr>\n",
       "  </tbody>\n",
       "</table>\n",
       "</div>"
      ],
      "text/plain": [
       "               line\n",
       "character          \n",
       "Mrs Cooper    103.0\n",
       "Sheldon        96.0\n",
       "Arthur         88.0\n",
       "Beverley       70.0\n",
       "Leslie         60.0\n",
       "Kripke         57.0\n",
       "Penny          55.0\n",
       "Leonard        52.0\n",
       "Zack           51.0\n",
       "Howard         50.0\n",
       "Raj            48.0\n",
       "Amy            46.0\n",
       "Wil            45.5\n",
       "Bert           42.0\n",
       "Bernadette     37.0\n",
       "Stuart         37.0\n",
       "Emily          31.0\n",
       "Priya          30.0\n",
       "Mrs Wolowitz   20.5"
      ]
     },
     "execution_count": 18,
     "metadata": {},
     "output_type": "execute_result"
    }
   ],
   "source": [
    "#median words per scene appeared\n",
    "script.groupby(['character', 'episode', 'scene id'])['line'].apply(lambda x: len(''.join(x.tolist()).split())).reset_index().groupby('character').median()[['line']].sort_values(by='line', ascending=False)"
   ]
  },
  {
   "cell_type": "markdown",
   "metadata": {},
   "source": [
    "### Part 3: Obligatory Spark cameo\n",
    "Write a Spark script that does the following: Given the raw input file and your list of recurrent characters, create an RDD containing (speaker, dialogue line) rows **only for the recurrent characters**, and then generate a vectorized bag of words representation for each dialogue line, thus generating an RDD with (speaker, bag of words vector) rows. Then, calculate an aggregated bag of words vector (sum of all vectors) for each person. The final output is therefore an RDD with each of its rows being (speaker, aggregated bag of words vector). For your bag of words vectors, you can use $1\\times|V|$ scipy CSR matrices (where $|V|$ is the size of the vocabulary). No filtering of the vocabulary is necessary for this part.\n",
    "\n",
    "You do not need to run this script, but you do need to use Spark logic."
   ]
  },
  {
   "cell_type": "raw",
   "metadata": {},
   "source": [
    "sc.textFile(\"script.txt\").map(lambda x: Row(character=get_character(x), line=get_line(x)) \\\n",
    "                         .map(lambda x: Row(character=x.character, bow=scipy.bow(x.line)) \\\n",
    "                         .map(lambda x: Row(character=x.character, a_bow=sum_words(x.bow))"
   ]
  },
  {
   "cell_type": "markdown",
   "metadata": {},
   "source": [
    "## Task 3: The Detective's Hat\n",
    "\n",
    "Sheldon claims that given a dialogue line, he can, with an accuracy of above 70%, say whether it's by himself or by someone else. Leonard contests this claim, since he believes that this claimed accuracy is too high. Leonard also suspects that it's easier for Sheldon to distinguish the lines that _aren't_ his, rather than those that _are_. We want you to put on the (proverbial) detective's hat and to investigate this claim.\n",
    "\n",
    "1. Divide the set of all dialogue lines into two subsets: the training set, consisting of all the seasons except the last two, and the test set, consisting of the last two seasons. Each of your data points is one **dialogue line**. Now, use the scikit-learn class TfIdfVectorizer to create TF-IDF representations for the data points in your training and test sets. Note that since you're going to train a machine learning model, everything used in the training needs to be independent of the test set. As a preprocessing step, remove stopwords and words that appear only once from your vocabulary. Use the simple tokenizer provided in `helpers/helper_functions.py` as an input to the TfidfVectorizer class, and use the words provided in `helpers/stopwords.txt` as your stopwords.\n",
    "2. Find the set of all words in the training set that are only uttered by Sheldon. Is it possible for Sheldon to identify himself only based on these? Use the test set to assess this possibility, and explain your method.\n",
    "3. Now, perform a full singular value decomposition (SVD) on the training TF-IDF matrix, and calculate a 25-dimensional approximation for both the training and test TF-IDF matrices (you can do all of this through the scikit-learn API). Then, train a logistic regression classifier that given a dialogue line, tells you whether it's by Sheldon or by someone else. Perform 10-fold cross-validation. Report the precision, recall and F1-score for both classes, as well as accuracy, of your classifier on the training set and the test set.\n",
    "\n",
    "    3.1. What difference do you observe between the model's scores on the training and test sets? What could you infer from the amount of difference you see? What about the difference between scores on the two classes?\n",
    "\n",
    "    3.2. Given the performance of your classifier, is Leonard right that the accuracy Sheldon claims is unattainable? What about his suspicions about the lines that Sheldon can and cannot distinguish?\n",
    "    \n",
    "    3.3. List 10 of the most extreme false positives and 10 of the most extreme false negatives. What are common features of false positives? What about false negatives?\n",
    "    \n",
    "    3.4. What is the most important feature in the model? What are the 5 most important words in this feature, i.e. the highest-weighted words in that column of the $V$ matrix?"
   ]
  },
  {
   "cell_type": "code",
   "execution_count": 19,
   "metadata": {},
   "outputs": [],
   "source": [
    "from sklearn.feature_extraction.text import TfidfVectorizer\n",
    "vectorizer = TfidfVectorizer(tokenizer=simple_tokeniser, stop_words=open('helpers/stopwords.txt').read().splitlines())"
   ]
  },
  {
   "cell_type": "code",
   "execution_count": 20,
   "metadata": {},
   "outputs": [],
   "source": [
    "training_X = script[script['season'].astype(int) < 9]['line']\n",
    "training_y = script[script['season'].astype(int) < 9]['character'] == 'Sheldon'\n",
    "test_X = script[script['season'].astype(int) >= 9]['line']\n",
    "test_y = script[script['season'].astype(int) >= 9]['character'] == 'Sheldon'"
   ]
  },
  {
   "cell_type": "code",
   "execution_count": 21,
   "metadata": {},
   "outputs": [],
   "source": [
    "training_X = vectorizer.fit_transform(training_X)\n",
    "test_X = vectorizer.transform(test_X)"
   ]
  },
  {
   "cell_type": "markdown",
   "metadata": {},
   "source": [
    "(not sure if ANOVA is the appropriate stat test)"
   ]
  },
  {
   "cell_type": "code",
   "execution_count": 22,
   "metadata": {},
   "outputs": [
    {
     "data": {
      "text/html": [
       "<div>\n",
       "<style scoped>\n",
       "    .dataframe tbody tr th:only-of-type {\n",
       "        vertical-align: middle;\n",
       "    }\n",
       "\n",
       "    .dataframe tbody tr th {\n",
       "        vertical-align: top;\n",
       "    }\n",
       "\n",
       "    .dataframe thead th {\n",
       "        text-align: right;\n",
       "    }\n",
       "</style>\n",
       "<table border=\"1\" class=\"dataframe\">\n",
       "  <thead>\n",
       "    <tr style=\"text-align: right;\">\n",
       "      <th></th>\n",
       "      <th>0</th>\n",
       "      <th>1</th>\n",
       "    </tr>\n",
       "  </thead>\n",
       "  <tbody>\n",
       "    <tr>\n",
       "      <th>0</th>\n",
       "      <td>flatlines</td>\n",
       "      <td>1.209308e-63</td>\n",
       "    </tr>\n",
       "    <tr>\n",
       "      <th>1</th>\n",
       "      <td>aged</td>\n",
       "      <td>8.758101e-53</td>\n",
       "    </tr>\n",
       "    <tr>\n",
       "      <th>2</th>\n",
       "      <td>separately</td>\n",
       "      <td>4.348879e-45</td>\n",
       "    </tr>\n",
       "    <tr>\n",
       "      <th>3</th>\n",
       "      <td>wood</td>\n",
       "      <td>1.725981e-31</td>\n",
       "    </tr>\n",
       "    <tr>\n",
       "      <th>4</th>\n",
       "      <td>cinnamon</td>\n",
       "      <td>2.445385e-30</td>\n",
       "    </tr>\n",
       "  </tbody>\n",
       "</table>\n",
       "</div>"
      ],
      "text/plain": [
       "            0             1\n",
       "0   flatlines  1.209308e-63\n",
       "1        aged  8.758101e-53\n",
       "2  separately  4.348879e-45\n",
       "3        wood  1.725981e-31\n",
       "4    cinnamon  2.445385e-30"
      ]
     },
     "execution_count": 22,
     "metadata": {},
     "output_type": "execute_result"
    }
   ],
   "source": [
    "from sklearn.feature_selection import f_classif\n",
    "F, p = f_classif(training_X, training_y)\n",
    "\n",
    "d = {c:r for c, r in zip(vectorizer.vocabulary_, p)}\n",
    "pd.DataFrame(sorted(d.items(), key=lambda kv: kv[1])).head()"
   ]
  },
  {
   "cell_type": "code",
   "execution_count": 23,
   "metadata": {},
   "outputs": [
    {
     "data": {
      "text/html": [
       "<div>\n",
       "<style scoped>\n",
       "    .dataframe tbody tr th:only-of-type {\n",
       "        vertical-align: middle;\n",
       "    }\n",
       "\n",
       "    .dataframe tbody tr th {\n",
       "        vertical-align: top;\n",
       "    }\n",
       "\n",
       "    .dataframe thead th {\n",
       "        text-align: right;\n",
       "    }\n",
       "</style>\n",
       "<table border=\"1\" class=\"dataframe\">\n",
       "  <thead>\n",
       "    <tr style=\"text-align: right;\">\n",
       "      <th></th>\n",
       "      <th>0</th>\n",
       "      <th>1</th>\n",
       "    </tr>\n",
       "  </thead>\n",
       "  <tbody>\n",
       "    <tr>\n",
       "      <th>0</th>\n",
       "      <td>hides</td>\n",
       "      <td>0.002020</td>\n",
       "    </tr>\n",
       "    <tr>\n",
       "      <th>1</th>\n",
       "      <td>photon</td>\n",
       "      <td>0.059692</td>\n",
       "    </tr>\n",
       "    <tr>\n",
       "      <th>2</th>\n",
       "      <td>ask</td>\n",
       "      <td>0.059692</td>\n",
       "    </tr>\n",
       "    <tr>\n",
       "      <th>3</th>\n",
       "      <td>plane</td>\n",
       "      <td>0.203576</td>\n",
       "    </tr>\n",
       "    <tr>\n",
       "      <th>4</th>\n",
       "      <td>directed</td>\n",
       "      <td>0.454683</td>\n",
       "    </tr>\n",
       "  </tbody>\n",
       "</table>\n",
       "</div>"
      ],
      "text/plain": [
       "          0         1\n",
       "0     hides  0.002020\n",
       "1    photon  0.059692\n",
       "2       ask  0.059692\n",
       "3     plane  0.203576\n",
       "4  directed  0.454683"
      ]
     },
     "execution_count": 23,
     "metadata": {},
     "output_type": "execute_result"
    }
   ],
   "source": [
    "F, p = f_classif(test_X, test_y)\n",
    "\n",
    "d = {c:r for c, r in zip(vectorizer.vocabulary_, p)}\n",
    "pd.DataFrame(sorted(d.items(), key=lambda kv: kv[1])).head()"
   ]
  },
  {
   "cell_type": "code",
   "execution_count": 24,
   "metadata": {},
   "outputs": [],
   "source": [
    "from sklearn.decomposition import TruncatedSVD\n",
    "svd = TruncatedSVD(n_components=25)"
   ]
  },
  {
   "cell_type": "code",
   "execution_count": 25,
   "metadata": {},
   "outputs": [],
   "source": [
    "training_X = svd.fit_transform(training_X)\n",
    "test_X = svd.transform(test_X)"
   ]
  },
  {
   "cell_type": "code",
   "execution_count": 26,
   "metadata": {},
   "outputs": [
    {
     "name": "stdout",
     "output_type": "stream",
     "text": [
      "validation accuracy: 0.7534140160098195\n",
      "test accuracy: 0.7795260104238372\n"
     ]
    }
   ],
   "source": [
    "from sklearn.model_selection import KFold\n",
    "from sklearn.linear_model import LogisticRegression\n",
    "\n",
    "lr = LogisticRegression()\n",
    "kf = KFold(n_splits=10)\n",
    "accuracy=0.0\n",
    "for train_index, val_index in kf.split(training_X):\n",
    "    X_train, X_val = training_X[train_index], training_X[val_index]\n",
    "    y_train, y_val = training_y[train_index], training_y[val_index]\n",
    "    lr.fit(X_train, y_train)\n",
    "    accuracy += lr.score(X_val, y_val)\n",
    "accuracy /= 10\n",
    "print('validation accuracy:', accuracy)\n",
    "\n",
    "lr.fit(training_X, training_y)\n",
    "print('test accuracy:', lr.score(test_X, test_y))"
   ]
  },
  {
   "cell_type": "code",
   "execution_count": 27,
   "metadata": {},
   "outputs": [
    {
     "name": "stdout",
     "output_type": "stream",
     "text": [
      "7888 44 2198 39\n",
      "precision: 0.46987951807228917\n",
      "recall: 0.01743406347787215\n"
     ]
    }
   ],
   "source": [
    "from sklearn.metrics import confusion_matrix\n",
    "tn, fp, fn, tp = confusion_matrix(test_y, lr.predict(test_X)).ravel()\n",
    "print(tn, fp, fn, tp)\n",
    "print('precision:', tp/(tp+fp))\n",
    "print('recall:', tp/(tp+fn))"
   ]
  },
  {
   "cell_type": "markdown",
   "metadata": {},
   "source": [
    "Sheldon and Leonard are both right (I guess)."
   ]
  },
  {
   "cell_type": "markdown",
   "metadata": {},
   "source": [
    "## Task 4: The Gossip Graph\n",
    "\n",
    "**Note: For this task, discard the recurrent characters whose names are not single words.**"
   ]
  },
  {
   "cell_type": "code",
   "execution_count": 28,
   "metadata": {},
   "outputs": [],
   "source": [
    "rec_characters = [c.lower() for c in rec_characters if len(c.split())==1]\n",
    "script['character']=script['character'].apply(lambda x: x.lower()) "
   ]
  },
  {
   "cell_type": "markdown",
   "metadata": {},
   "source": [
    "### Part 1: The Gossip Graph\n",
    "\n",
    "Let us define _gossip_ as follows: if a dialogue line of character A mentions B by name in a scene that does not involve character B,, we say that “A gossips about B” in that line. For the sake of simplicity, we only consider mentions where the name of the recurrent character, as it appears in our list of characters, is mentioned; for example, if someone says \"Cooper\" and they mean Sheldon, we discard that. Create the two following graphs first:\n",
    "\n",
    "1. Create the _gossip graph_, which is a directed weighted graph, in which there there is a node for each recurrent character, and a directed edge from the node for A to the node for B if A has gossiped about B at least once. The weight of the edge is the number of scenes in which A has gossiped about B.\n",
    "2. Create the _familiarity graph_, an undirected weighted graph, in which there is a node for each recurrent character, and an edge between two characters if they appear together in at least one scene. The weight of the edge between them is the number of scenes they appear in together. If an edge exists between two people in the familiarity graph, we say that they \"know each other\".\n",
    "\n",
    "You can create these two graphs as adjacency matrices first, and then use the packages networkx or igraph."
   ]
  },
  {
   "cell_type": "code",
   "execution_count": 29,
   "metadata": {},
   "outputs": [],
   "source": [
    "gossip_graph = script[['line', 'character']].copy()\n",
    "gossip_graph['mentions'] = gossip_graph['line'].apply(lambda x: list(set([w for w in x.split() if w in rec_characters])))"
   ]
  },
  {
   "cell_type": "code",
   "execution_count": 30,
   "metadata": {},
   "outputs": [],
   "source": [
    "gossip_graph = gossip_graph['mentions'].apply(lambda x: pd.Series(x)).stack().reset_index(level=1, drop=True).to_frame('mentions').join(gossip_graph[['character']], how='left')"
   ]
  },
  {
   "cell_type": "code",
   "execution_count": 31,
   "metadata": {},
   "outputs": [
    {
     "data": {
      "text/html": [
       "<div>\n",
       "<style scoped>\n",
       "    .dataframe tbody tr th:only-of-type {\n",
       "        vertical-align: middle;\n",
       "    }\n",
       "\n",
       "    .dataframe tbody tr th {\n",
       "        vertical-align: top;\n",
       "    }\n",
       "\n",
       "    .dataframe thead th {\n",
       "        text-align: right;\n",
       "    }\n",
       "</style>\n",
       "<table border=\"1\" class=\"dataframe\">\n",
       "  <thead>\n",
       "    <tr style=\"text-align: right;\">\n",
       "      <th></th>\n",
       "      <th>character</th>\n",
       "      <th>mentions</th>\n",
       "      <th>weight</th>\n",
       "    </tr>\n",
       "  </thead>\n",
       "  <tbody>\n",
       "    <tr>\n",
       "      <th>0</th>\n",
       "      <td>amy</td>\n",
       "      <td>amy</td>\n",
       "      <td>23</td>\n",
       "    </tr>\n",
       "    <tr>\n",
       "      <th>1</th>\n",
       "      <td>amy</td>\n",
       "      <td>arthur</td>\n",
       "      <td>2</td>\n",
       "    </tr>\n",
       "    <tr>\n",
       "      <th>2</th>\n",
       "      <td>amy</td>\n",
       "      <td>bernadette</td>\n",
       "      <td>52</td>\n",
       "    </tr>\n",
       "    <tr>\n",
       "      <th>3</th>\n",
       "      <td>amy</td>\n",
       "      <td>bert</td>\n",
       "      <td>15</td>\n",
       "    </tr>\n",
       "    <tr>\n",
       "      <th>4</th>\n",
       "      <td>amy</td>\n",
       "      <td>howard</td>\n",
       "      <td>21</td>\n",
       "    </tr>\n",
       "  </tbody>\n",
       "</table>\n",
       "</div>"
      ],
      "text/plain": [
       "  character    mentions  weight\n",
       "0       amy         amy      23\n",
       "1       amy      arthur       2\n",
       "2       amy  bernadette      52\n",
       "3       amy        bert      15\n",
       "4       amy      howard      21"
      ]
     },
     "execution_count": 31,
     "metadata": {},
     "output_type": "execute_result"
    }
   ],
   "source": [
    "gossip_graph['weight'] = 1\n",
    "gossip_graph = gossip_graph.groupby(['character', 'mentions']).sum().reset_index()\n",
    "gossip_graph.head()"
   ]
  },
  {
   "cell_type": "code",
   "execution_count": 32,
   "metadata": {},
   "outputs": [
    {
     "data": {
      "image/png": "[encoded data removed]",
      "text/plain": [
       "<Figure size 432x288 with 1 Axes>"
      ]
     },
     "metadata": {
      "needs_background": "light"
     },
     "output_type": "display_data"
    }
   ],
   "source": [
    "import networkx as nx\n",
    "\n",
    "GG = nx.DiGraph()\n",
    "gossip_graph.apply(lambda x: GG.add_edge(x['character'], x['mentions'], weight=x['weight']), axis=1)\n",
    "nx.draw_networkx(GG)"
   ]
  },
  {
   "cell_type": "code",
   "execution_count": 33,
   "metadata": {},
   "outputs": [],
   "source": [
    "familiarity_graph = script[['scene id', 'character']].copy()\n",
    "familiarity_graph = familiarity_graph.merge(familiarity_graph, on='scene id')\n",
    "familiarity_graph = familiarity_graph.drop_duplicates() "
   ]
  },
  {
   "cell_type": "code",
   "execution_count": 34,
   "metadata": {},
   "outputs": [],
   "source": [
    "#alphabetical order of characters\n",
    "familiarity_graph = pd.DataFrame(familiarity_graph.apply(lambda x: {'scene id':x['scene id'], 'character_x':x['character_x'] , 'character_y':x['character_y']} if x['character_x']<x['character_y'] else {'scene id':x['scene id'], 'character_x':x['character_y'] , 'character_y':x['character_x']}, axis=1).tolist())\n",
    "familiarity_graph = familiarity_graph.drop_duplicates() "
   ]
  },
  {
   "cell_type": "code",
   "execution_count": 35,
   "metadata": {},
   "outputs": [],
   "source": [
    "familiarity_graph = familiarity_graph[familiarity_graph['character_x'] != familiarity_graph['character_y']]"
   ]
  },
  {
   "cell_type": "code",
   "execution_count": 36,
   "metadata": {},
   "outputs": [
    {
     "data": {
      "text/html": [
       "<div>\n",
       "<style scoped>\n",
       "    .dataframe tbody tr th:only-of-type {\n",
       "        vertical-align: middle;\n",
       "    }\n",
       "\n",
       "    .dataframe tbody tr th {\n",
       "        vertical-align: top;\n",
       "    }\n",
       "\n",
       "    .dataframe thead th {\n",
       "        text-align: right;\n",
       "    }\n",
       "</style>\n",
       "<table border=\"1\" class=\"dataframe\">\n",
       "  <thead>\n",
       "    <tr style=\"text-align: right;\">\n",
       "      <th></th>\n",
       "      <th>character_x</th>\n",
       "      <th>character_y</th>\n",
       "      <th>weight</th>\n",
       "    </tr>\n",
       "  </thead>\n",
       "  <tbody>\n",
       "    <tr>\n",
       "      <th>0</th>\n",
       "      <td>amy</td>\n",
       "      <td>arthur</td>\n",
       "      <td>1</td>\n",
       "    </tr>\n",
       "    <tr>\n",
       "      <th>1</th>\n",
       "      <td>amy</td>\n",
       "      <td>bernadette</td>\n",
       "      <td>252</td>\n",
       "    </tr>\n",
       "    <tr>\n",
       "      <th>2</th>\n",
       "      <td>amy</td>\n",
       "      <td>bert</td>\n",
       "      <td>18</td>\n",
       "    </tr>\n",
       "    <tr>\n",
       "      <th>3</th>\n",
       "      <td>amy</td>\n",
       "      <td>beverley</td>\n",
       "      <td>4</td>\n",
       "    </tr>\n",
       "    <tr>\n",
       "      <th>4</th>\n",
       "      <td>amy</td>\n",
       "      <td>emily</td>\n",
       "      <td>7</td>\n",
       "    </tr>\n",
       "  </tbody>\n",
       "</table>\n",
       "</div>"
      ],
      "text/plain": [
       "  character_x character_y  weight\n",
       "0         amy      arthur       1\n",
       "1         amy  bernadette     252\n",
       "2         amy        bert      18\n",
       "3         amy    beverley       4\n",
       "4         amy       emily       7"
      ]
     },
     "execution_count": 36,
     "metadata": {},
     "output_type": "execute_result"
    }
   ],
   "source": [
    "familiarity_graph['weight'] = 1\n",
    "familiarity_graph = familiarity_graph[['character_x', 'character_y', 'weight']].groupby(['character_x', 'character_y']).sum().reset_index()\n",
    "familiarity_graph.head()"
   ]
  },
  {
   "cell_type": "code",
   "execution_count": 37,
   "metadata": {
    "scrolled": false
   },
   "outputs": [
    {
     "data": {
      "image/png": "[encoded data removed]",
      "text/plain": [
       "<Figure size 432x288 with 1 Axes>"
      ]
     },
     "metadata": {
      "needs_background": "light"
     },
     "output_type": "display_data"
    }
   ],
   "source": [
    "FG = nx.Graph()\n",
    "familiarity_graph.apply(lambda x: FG.add_edge(x['character_x'], x['character_y'], weight=x['weight']), axis=1)\n",
    "nx.draw_networkx(FG)"
   ]
  },
  {
   "cell_type": "markdown",
   "metadata": {},
   "source": [
    "Now, answer the following questions:\n",
    "\n",
    "1. Sheldon claims that every character in the show is familiar with everyone else through at most one intermediary. Based on the familiarity graph, is this true? If not, at most how many intermediaries are needed?\n",
    "2. Who is the character through whom the largest number of these indirect familiarities happen? Calculate an appropriate centrality metric on the familiarity graph to answer this question. You can use the package networkx for this section.\n",
    "3. Another claim of Sheldon's (we know, there are already way too many of them) is that every recurrent character in the show gossips about all the other recurrent characters. What property of the gossip graph would correspond to this? Does the gossip graph possess that property? If not, then is it the case that for every pair of recurrent characters, at least one gossips about the other? What property would this correspond to?\n",
    "4. Use the gossip graph and the familiarity graph to figure out if for every pair of recurrent characters, one of them has gossiped about the other if and only if they know each other. Explain your method - the simpler, the better."
   ]
  },
  {
   "cell_type": "code",
   "execution_count": 38,
   "metadata": {
    "scrolled": true
   },
   "outputs": [
    {
     "name": "stdout",
     "output_type": "stream",
     "text": [
      "2 intermediaries\n"
     ]
    }
   ],
   "source": [
    "#1\n",
    "print(max([v for _ , c in nx.all_pairs_shortest_path_length(FG) for v in c.values()]), 'intermediaries')"
   ]
  },
  {
   "cell_type": "code",
   "execution_count": 39,
   "metadata": {},
   "outputs": [
    {
     "data": {
      "text/plain": [
       "('amy', 0.04956427015250544)"
      ]
     },
     "execution_count": 39,
     "metadata": {},
     "output_type": "execute_result"
    }
   ],
   "source": [
    "#2\n",
    "max(nx.betweenness_centrality(FG).items(), key=lambda k: k[1])"
   ]
  },
  {
   "cell_type": "code",
   "execution_count": 40,
   "metadata": {},
   "outputs": [
    {
     "data": {
      "text/plain": [
       "False"
      ]
     },
     "execution_count": 40,
     "metadata": {},
     "output_type": "execute_result"
    }
   ],
   "source": [
    "#3\n",
    "min(dict(GG.out_degree).items(), key=lambda k: k[1])[1] == len(rec_characters)"
   ]
  },
  {
   "cell_type": "markdown",
   "metadata": {},
   "source": [
    "### Part 2: The Gossiplord\n",
    "\n",
    "Sheldon and Leonard are having a disagreement about how \"gossipyness\" should be defined. Leonard insists that they keep it simple, and to calculate a Gossip% for each person, which for person P is defined as:\n",
    "$$ \\frac{| \\: Number \\: of \\: scenes \\: in \\: which \\: P \\: is \\: gossiping \\: |}{| \\: Number \\: of \\: scenes \\: in \\: which \\: P \\: appears \\: |} $$\n",
    "\n",
    "On the other hand, Sheldon thinks that the better idea is to normalize each person's gossiping about each other person by how well-acquainted they are. His proposition is the NormGossip, which for person P is calculated as follows:\n",
    "$$ \\sum_{X \\in Recurrent \\: and \\: X \\neq P} \\frac{| \\: Scenes \\: where \\: P \\: gossips \\: about \\: X \\: |}{| \\: Scenes \\: where \\: P \\: appears \\: together \\: with \\: X \\: |} $$\n",
    "\n",
    "\n",
    "1. Calculate the Gossip% for all recurrent characters. Who are the top 3 gossipers?\n",
    "2. Calculate the NormGossip for all recurrent characters. According to this measure, who are the top 3 gossipers?\n",
    "3. What are the pros and cons of each measure? In what situations would each of them perform badly? Which one would you consider to be a superior score? How could you improve Sheldon's NormGossip, using ideas from TF-IDF weighting?"
   ]
  },
  {
   "cell_type": "code",
   "execution_count": null,
   "metadata": {},
   "outputs": [],
   "source": []
  },
  {
   "cell_type": "code",
   "execution_count": null,
   "metadata": {},
   "outputs": [],
   "source": []
  }
 ],
 "metadata": {
  "kernelspec": {
   "display_name": "Python 3",
   "language": "python",
   "name": "python3"
  },
  "language_info": {
   "codemirror_mode": {
    "name": "ipython",
    "version": 3
   },
   "file_extension": ".py",
   "mimetype": "text/x-python",
   "name": "python",
   "nbconvert_exporter": "python",
   "pygments_lexer": "ipython3",
   "version": "3.6.6"
  },
  "toc": {
   "base_numbering": 1,
   "nav_menu": {},
   "number_sections": true,
   "sideBar": true,
   "skip_h1_title": false,
   "title_cell": "Table of Contents",
   "title_sidebar": "Contents",
   "toc_cell": false,
   "toc_position": {},
   "toc_section_display": true,
   "toc_window_display": false
  }
 },
 "nbformat": 4,
 "nbformat_minor": 2
}
